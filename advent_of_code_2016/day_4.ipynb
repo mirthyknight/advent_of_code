{
 "cells": [
  {
   "cell_type": "code",
   "execution_count": 13,
   "metadata": {
    "collapsed": true
   },
   "outputs": [],
   "source": [
    "import re"
   ]
  },
  {
   "cell_type": "code",
   "execution_count": 1,
   "metadata": {
    "collapsed": true
   },
   "outputs": [],
   "source": [
    "import pandas as pd"
   ]
  },
  {
   "cell_type": "code",
   "execution_count": 189,
   "metadata": {
    "collapsed": true
   },
   "outputs": [],
   "source": [
    "import numpy as np"
   ]
  },
  {
   "cell_type": "code",
   "execution_count": 5,
   "metadata": {
    "collapsed": false
   },
   "outputs": [],
   "source": [
    "input_ = pd.read_table(\"input_day4.sql\", header=None)\n",
    "data = input[0].apply(lambda x: re.sub(']', '', x))\n",
    "data = pd.DataFrame(data.str.split('[', 1).tolist())"
   ]
  },
  {
   "cell_type": "code",
   "execution_count": 279,
   "metadata": {
    "collapsed": false
   },
   "outputs": [
    {
     "data": {
      "text/html": [
       "<div>\n",
       "<table border=\"1\" class=\"dataframe\">\n",
       "  <thead>\n",
       "    <tr style=\"text-align: right;\">\n",
       "      <th></th>\n",
       "      <th>0</th>\n",
       "    </tr>\n",
       "  </thead>\n",
       "  <tbody>\n",
       "    <tr>\n",
       "      <th>0</th>\n",
       "      <td>gbc-frperg-pubpbyngr-znantrzrag-377[rgbnp]</td>\n",
       "    </tr>\n",
       "    <tr>\n",
       "      <th>1</th>\n",
       "      <td>nij-mywlyn-wlsiayhcw-jfumncw-alumm-mbcjjcha-42...</td>\n",
       "    </tr>\n",
       "  </tbody>\n",
       "</table>\n",
       "</div>"
      ],
      "text/plain": [
       "                                                   0\n",
       "0         gbc-frperg-pubpbyngr-znantrzrag-377[rgbnp]\n",
       "1  nij-mywlyn-wlsiayhcw-jfumncw-alumm-mbcjjcha-42..."
      ]
     },
     "execution_count": 279,
     "metadata": {},
     "output_type": "execute_result"
    }
   ],
   "source": [
    "input_.head(2)"
   ]
  },
  {
   "cell_type": "code",
   "execution_count": 280,
   "metadata": {
    "collapsed": false
   },
   "outputs": [
    {
     "data": {
      "text/html": [
       "<div>\n",
       "<table border=\"1\" class=\"dataframe\">\n",
       "  <thead>\n",
       "    <tr style=\"text-align: right;\">\n",
       "      <th></th>\n",
       "      <th>0</th>\n",
       "      <th>1</th>\n",
       "    </tr>\n",
       "  </thead>\n",
       "  <tbody>\n",
       "    <tr>\n",
       "      <th>0</th>\n",
       "      <td>gbc-frperg-pubpbyngr-znantrzrag-377</td>\n",
       "      <td>rgbnp</td>\n",
       "    </tr>\n",
       "    <tr>\n",
       "      <th>1</th>\n",
       "      <td>nij-mywlyn-wlsiayhcw-jfumncw-alumm-mbcjjcha-422</td>\n",
       "      <td>mcjwa</td>\n",
       "    </tr>\n",
       "  </tbody>\n",
       "</table>\n",
       "</div>"
      ],
      "text/plain": [
       "                                                 0      1\n",
       "0              gbc-frperg-pubpbyngr-znantrzrag-377  rgbnp\n",
       "1  nij-mywlyn-wlsiayhcw-jfumncw-alumm-mbcjjcha-422  mcjwa"
      ]
     },
     "execution_count": 280,
     "metadata": {},
     "output_type": "execute_result"
    }
   ],
   "source": [
    "data.head(2)"
   ]
  },
  {
   "cell_type": "code",
   "execution_count": 100,
   "metadata": {
    "collapsed": false
   },
   "outputs": [],
   "source": [
    "checksums = data[1]\n",
    "room_number = pd.DataFrame(data[0].apply(lambda x: x.split('-')[-1]))"
   ]
  },
  {
   "cell_type": "code",
   "execution_count": 43,
   "metadata": {
    "collapsed": false
   },
   "outputs": [],
   "source": [
    "letters = data[0].apply(lambda x: ''.join(re.findall(\"[a-z]+\", x)))"
   ]
  },
  {
   "cell_type": "code",
   "execution_count": 74,
   "metadata": {
    "collapsed": false
   },
   "outputs": [],
   "source": [
    "alphabet = 'abcdefghijklmnopqrstuvwxyz'"
   ]
  },
  {
   "cell_type": "code",
   "execution_count": 143,
   "metadata": {
    "collapsed": true
   },
   "outputs": [],
   "source": [
    "def get_checksum(index):\n",
    "    dict_ = {key: letters[index].count(key) for key in alphabet}\n",
    "\n",
    "    dict_ = pd.DataFrame.from_dict(dict_, orient='index').reset_index()\n",
    "\n",
    "    checksum = ''.join(dict_.sort_values([0, 'index'], ascending=[False, True])[:5]['index'])\n",
    "    \n",
    "    return checksum"
   ]
  },
  {
   "cell_type": "code",
   "execution_count": 150,
   "metadata": {
    "collapsed": false
   },
   "outputs": [],
   "source": [
    "idx = [get_checksum(i) == checksums[i] for i in range(len(checksums))]"
   ]
  },
  {
   "cell_type": "code",
   "execution_count": 183,
   "metadata": {
    "collapsed": false
   },
   "outputs": [
    {
     "data": {
      "text/plain": [
       "409147"
      ]
     },
     "execution_count": 183,
     "metadata": {},
     "output_type": "execute_result"
    }
   ],
   "source": [
    "room_number[idx][0].apply(int).sum()"
   ]
  },
  {
   "cell_type": "markdown",
   "metadata": {},
   "source": [
    "PART II"
   ]
  },
  {
   "cell_type": "code",
   "execution_count": 234,
   "metadata": {
    "collapsed": false
   },
   "outputs": [],
   "source": [
    "shifts = room_number[0].apply(lambda x: int(x) % 26)"
   ]
  },
  {
   "cell_type": "code",
   "execution_count": 272,
   "metadata": {
    "collapsed": false
   },
   "outputs": [],
   "source": [
    "def shift_cypher(string):\n",
    "    decrypted_name = \"\"\n",
    "    shift = int(string.split('-')[-1]) %26\n",
    "    for l in ' '.join(string.split('-')[:-1]):\n",
    "        if l == ' ':\n",
    "            decrypted_name = decrypted_name + ' '\n",
    "            \n",
    "        else: decrypted_name = decrypted_name + alphabet[(re.search(l, alphabet).span()[0] + shift) % 26]\n",
    "    return decrypted_name"
   ]
  },
  {
   "cell_type": "code",
   "execution_count": 274,
   "metadata": {
    "collapsed": false
   },
   "outputs": [
    {
     "data": {
      "text/plain": [
       "'top secret chocolate management'"
      ]
     },
     "execution_count": 274,
     "metadata": {},
     "output_type": "execute_result"
    }
   ],
   "source": [
    "shift_cypher(\"gbc-frperg-pubpbyngr-znantrzrag-377\")"
   ]
  },
  {
   "cell_type": "code",
   "execution_count": 277,
   "metadata": {
    "collapsed": false
   },
   "outputs": [],
   "source": [
    "new_names = data[0].apply(shift_cypher)"
   ]
  },
  {
   "cell_type": "code",
   "execution_count": 297,
   "metadata": {
    "collapsed": false
   },
   "outputs": [
    {
     "data": {
      "text/plain": [
       "404                international bunny purchasing\n",
       "500         weaponized classified dye containment\n",
       "413        international plastic grass operations\n",
       "714                   fuzzy chocolate development\n",
       "277                         corrosive candy sales\n",
       "896                       rampaging rabbit design\n",
       "230      cryogenic plastic grass customer service\n",
       "845                international rabbit financing\n",
       "28       military grade candy coating containment\n",
       "730    magnetic consumer grade rabbit engineering\n",
       "Name: 0, dtype: object"
      ]
     },
     "execution_count": 297,
     "metadata": {},
     "output_type": "execute_result"
    }
   ],
   "source": [
    "new_names[np.random.randint(0, len(data[0]), 10)]"
   ]
  },
  {
   "cell_type": "code",
   "execution_count": 287,
   "metadata": {
    "collapsed": false
   },
   "outputs": [
    {
     "data": {
      "text/plain": [
       "810    northpole object storage\n",
       "Name: 0, dtype: object"
      ]
     },
     "execution_count": 287,
     "metadata": {},
     "output_type": "execute_result"
    }
   ],
   "source": [
    "new_names[new_names.apply(lambda x: 'north' in  x)]"
   ]
  },
  {
   "cell_type": "code",
   "execution_count": 292,
   "metadata": {
    "collapsed": false
   },
   "outputs": [
    {
     "data": {
      "text/plain": [
       "0    kloqemlib-lygbzq-pqloxdb-991[lbqod]\n",
       "Name: 810, dtype: object"
      ]
     },
     "execution_count": 292,
     "metadata": {},
     "output_type": "execute_result"
    }
   ],
   "source": [
    "input.ix[810]"
   ]
  },
  {
   "cell_type": "code",
   "execution_count": null,
   "metadata": {
    "collapsed": true
   },
   "outputs": [],
   "source": []
  }
 ],
 "metadata": {
  "kernelspec": {
   "display_name": "Python 3",
   "language": "python",
   "name": "python3"
  },
  "language_info": {
   "codemirror_mode": {
    "name": "ipython",
    "version": 3
   },
   "file_extension": ".py",
   "mimetype": "text/x-python",
   "name": "python",
   "nbconvert_exporter": "python",
   "pygments_lexer": "ipython3",
   "version": "3.5.1"
  }
 },
 "nbformat": 4,
 "nbformat_minor": 1
}
