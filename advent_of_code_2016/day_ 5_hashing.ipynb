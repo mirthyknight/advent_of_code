{
 "cells": [
  {
   "cell_type": "code",
   "execution_count": 42,
   "metadata": {
    "collapsed": false
   },
   "outputs": [
    {
     "name": "stdout",
     "output_type": "stream",
     "text": [
      "1469591 000004c52f7523dcea0ae987bb4bb7ae 4\n",
      "1925351 000005b6777c6a6a5a72d3593ee1bade 45\n",
      "4310992 0000049c67c129f031d6d2712e3e011d 454\n",
      "4851204 00000307d284ec5fe32c12546f61d675 4543\n",
      "6610226 00000c4b121a0b7dceb8f719e3e5b9d1 4543c\n",
      "6840976 00000101e84b5e967cba0ba19c7e7e00 4543c1\n",
      "9504234 00000574e86e49ffc208b84e771f3487 4543c15\n",
      "10320588 00000439e8d28b6d251a65563b7c09d1 4543c154\n"
     ]
    },
    {
     "data": {
      "text/plain": [
       "'4543c154'"
      ]
     },
     "execution_count": 42,
     "metadata": {},
     "output_type": "execute_result"
    }
   ],
   "source": [
    "import hashlib\n",
    "\n",
    "door = \"ojvtpuvg\"\n",
    "\n",
    "def find_password(door):\n",
    "    \"First 8 sixth digits of md5 hashes of door+i that begin with '00000'.\"\n",
    "    password = ''\n",
    "    for i in range(10000000000000000000000000000):\n",
    "        x = hashlib.md5(bytes(door + str(i), 'utf-8')).hexdigest()\n",
    "        if x.startswith('00000'):\n",
    "            password += x[5]\n",
    "            print(i, x, password) # Just to see something happen\n",
    "            if len(password) == 8: \n",
    "                return password\n",
    "\n",
    "find_password(door)"
   ]
  },
  {
   "cell_type": "code",
   "execution_count": null,
   "metadata": {
    "collapsed": true
   },
   "outputs": [],
   "source": []
  }
 ],
 "metadata": {
  "kernelspec": {
   "display_name": "Python 3",
   "language": "python",
   "name": "python3"
  },
  "language_info": {
   "codemirror_mode": {
    "name": "ipython",
    "version": 3
   },
   "file_extension": ".py",
   "mimetype": "text/x-python",
   "name": "python",
   "nbconvert_exporter": "python",
   "pygments_lexer": "ipython3",
   "version": "3.5.1"
  }
 },
 "nbformat": 4,
 "nbformat_minor": 1
}
