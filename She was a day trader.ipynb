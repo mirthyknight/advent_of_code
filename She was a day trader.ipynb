{
 "cells": [
  {
   "cell_type": "markdown",
   "metadata": {},
   "source": [
    "In this notebook I process the .csv transaction data dump from commsec to do some cash flow analysis and stuff for my mum."
   ]
  },
  {
   "cell_type": "code",
   "execution_count": null,
   "metadata": {
    "collapsed": true
   },
   "outputs": [],
   "source": [
    "%matplotlib inline\n",
    "import matplotlib.pyplot as plt\n",
    "import pandas as pd\n",
    "from yahoo_finance import Share"
   ]
  },
  {
   "cell_type": "markdown",
   "metadata": {},
   "source": [
    "I went to Trading>Confirmations and downloaded a .csv file.  lalala"
   ]
  },
  {
   "cell_type": "code",
   "execution_count": null,
   "metadata": {
    "collapsed": false
   },
   "outputs": [],
   "source": [
    "confirmations = pd.read_csv('ConfirmationDetails.csv').iloc[:, :11]\n",
    "confirmations.head(2)"
   ]
  },
  {
   "cell_type": "code",
   "execution_count": null,
   "metadata": {
    "collapsed": false
   },
   "outputs": [],
   "source": [
    "current_prices = {}\n",
    "\n",
    "for ticker in confirmations.Security.unique():\n",
    "    current_prices[ticker] = Share(ticker+'.AX').get_price()\n",
    "\n",
    "current_prices = pd.DataFrame.from_dict(current_prices, orient='index')\n",
    "current_prices.columns = ['price']\n",
    "current_prices.sort_values('price', ascending=False, inplace=True)"
   ]
  },
  {
   "cell_type": "markdown",
   "metadata": {},
   "source": [
    "I went to Portfolio>Accounts>Transactions and downloaded a .csv of all the transactions there.\n",
    "\n",
    "Had to make sure that my date range started at June 1, to get all the info."
   ]
  },
  {
   "cell_type": "code",
   "execution_count": null,
   "metadata": {
    "collapsed": false
   },
   "outputs": [],
   "source": [
    "transactions = pd.read_csv(\"Transactions.csv\").iloc[:, :7]\n",
    "transactions.fillna(\"\", inplace=True)\n",
    "transactions['Balance ($)'] = transactions['Balance ($)']/1000\n",
    "transactions.rename(columns={'Balance ($)': \"Balance ($000)\"}, inplace=True)\n",
    "transactions.head(2)"
   ]
  },
  {
   "cell_type": "code",
   "execution_count": null,
   "metadata": {
    "collapsed": false
   },
   "outputs": [],
   "source": [
    "divs = pd.read_csv('CSVData.csv', header=None)\n",
    "divs['Security'] = divs.iloc[:,2].apply(lambda x: x.split()[3])\n",
    "divs.rename(columns={1: 'Proceeds'}, inplace=True)\n",
    "divs.head(2)"
   ]
  },
  {
   "cell_type": "code",
   "execution_count": null,
   "metadata": {
    "collapsed": true
   },
   "outputs": [],
   "source": [
    "big_dict = {}\n",
    "\n",
    "for ticker in confirmations.Security.unique():\n",
    "    revenue = confirmations['Net Proceeds ($)'][\n",
    "        confirmations['Security'] == ticker][\n",
    "        confirmations['Buy/ Sell']=='S'].sum()\n",
    "\n",
    "    cost = confirmations['Net Proceeds ($)'][\n",
    "            confirmations['Security'] == ticker][\n",
    "            confirmations['Buy/ Sell']=='B'].sum()\n",
    "    \n",
    "    tran_num = confirmations[confirmations.Security == ticker].shape[0]\n",
    "    \n",
    "    num_bought = confirmations['Units'][(confirmations['Security'] == ticker) & (confirmations['Buy/ Sell'] == 'B')].sum()\n",
    "    num_sold = confirmations['Units'][(confirmations['Security'] == ticker) & (confirmations['Buy/ Sell'] == 'S')].sum()\n",
    "    num_holding = num_bought-num_sold\n",
    "    \n",
    "    curr_price = float(current_prices.ix[ticker])\n",
    "    asset_value = curr_price * num_holding\n",
    "    if divs.Proceeds[divs.Security == ticker].shape[0] == 0:\n",
    "        dividend = 0\n",
    "    else: dividend = round(divs.Proceeds[divs.Security == ticker].values.tolist()[0], 2)\n",
    "            \n",
    "    prof=round(revenue+int(dividend)-cost, 2)\n",
    "    net_position = round(prof + asset_value, 2) # is this right? am i double counting something?\n",
    "    \n",
    "    big_dict[ticker] = [round(revenue, 2), round(cost, 2), tran_num, num_holding,\n",
    "                        asset_value, dividend, prof, net_position, curr_price]"
   ]
  },
  {
   "cell_type": "code",
   "execution_count": null,
   "metadata": {
    "collapsed": false
   },
   "outputs": [],
   "source": [
    "all_info = pd.DataFrame.from_dict(big_dict, orient='index')\n",
    "all_info.columns = ['Revenue', 'Cost', 'Num Transactions', 'Num Holding', 'Asset Value', 'Dividends', 'Profit', 'Net Position', 'Current Price']\n",
    "all_info.sort_values('Net Position', ascending=True)"
   ]
  },
  {
   "cell_type": "code",
   "execution_count": null,
   "metadata": {
    "collapsed": false
   },
   "outputs": [],
   "source": [
    "all_info['Net Position'].sum()"
   ]
  },
  {
   "cell_type": "code",
   "execution_count": null,
   "metadata": {
    "collapsed": true
   },
   "outputs": [],
   "source": [
    "#     print(\"\"\"For {ticker}: \n",
    "#     ${spent} in total has been spent, ${gained} has been gained from sales and ${divi} from dividends.  \n",
    "#     {tran_num} transactions were undertaken for {ticker2}.\n",
    "#     We currently hold {num_holding} units, valued at ${asset_value} total.\n",
    "#     This represents ${prof} net profit.\n",
    "#     Your net position on this stock is ${net}.\n",
    "#     \"\"\".format(ticker=ticker,\n",
    "#                spent=round(cost, 2),\n",
    "#                gained=round(revenue, 2),\n",
    "#                divi=int(dividend),\n",
    "#                prof=prof,\n",
    "#                tran_num=tran_num,\n",
    "#                ticker2=ticker,\n",
    "#                num_holding=num_holding,\n",
    "#                asset_value=asset_value,\n",
    "#                net=net_position))"
   ]
  },
  {
   "cell_type": "code",
   "execution_count": null,
   "metadata": {
    "collapsed": true
   },
   "outputs": [],
   "source": []
  }
 ],
 "metadata": {
  "kernelspec": {
   "display_name": "Python 3",
   "language": "python",
   "name": "python3"
  },
  "language_info": {
   "codemirror_mode": {
    "name": "ipython",
    "version": 3
   },
   "file_extension": ".py",
   "mimetype": "text/x-python",
   "name": "python",
   "nbconvert_exporter": "python",
   "pygments_lexer": "ipython3",
   "version": "3.5.1"
  }
 },
 "nbformat": 4,
 "nbformat_minor": 1
}
